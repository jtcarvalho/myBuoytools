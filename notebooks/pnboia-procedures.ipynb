{
 "cells": [
  {
   "cell_type": "markdown",
   "metadata": {},
   "source": [
    "### PNBOIA  \n",
    "\n",
    "\n",
    "1) Download -- > acess http://www.goosbrasil.org/pnboia/  \n",
    "\n",
    "   - Create an account and select the buoy, date manually and download the .csv file.\n",
    "\n",
    "2) pnboia2nc.py --> convert .csv files to netcdf\n",
    "\n",
    "    - hs, hmax, tp and dir. I need to add the other vars\n",
    "\n",
    "\n"
   ]
  }
 ],
 "metadata": {
  "kernelspec": {
   "display_name": "plots",
   "language": "python",
   "name": "python3"
  },
  "language_info": {
   "codemirror_mode": {
    "name": "ipython",
    "version": 3
   },
   "file_extension": ".py",
   "mimetype": "text/x-python",
   "name": "python",
   "nbconvert_exporter": "python",
   "pygments_lexer": "ipython3",
   "version": "3.11.0"
  }
 },
 "nbformat": 4,
 "nbformat_minor": 2
}
